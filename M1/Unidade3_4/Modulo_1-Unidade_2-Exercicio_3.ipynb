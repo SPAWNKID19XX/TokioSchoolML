{
 "cells": [
  {
   "cell_type": "markdown",
   "metadata": {},
   "source": [
    "# Introdução às livrarias usadas"
   ]
  },
  {
   "cell_type": "markdown",
   "metadata": {},
   "source": [
    "Neste notebook, vamos ver uma breve introdução às livrarias:\n",
    "- Jupyter \n",
    "- Numpy \n",
    "- Matplotlib \n",
    "- Scikit-learn\n",
    "\n",
    "O “kernel” ou linguagem usada pelo notebook e as livrarias é Python 3.\n",
    "\n",
    "Para este exercício, simplesmente executar todas as células e rever as diferentes funções utilizadas. Ao final do mesmo terá uns poucos exercícios para resolver."
   ]
  },
  {
   "cell_type": "code",
   "execution_count": 2,
   "metadata": {},
   "outputs": [
    {
     "name": "stdout",
     "output_type": "stream",
     "text": [
      "[ 8 17 26]\n",
      "[[[ 0  1  2]\n",
      "  [ 3  4  5]\n",
      "  [ 6  7  8]]\n",
      "\n",
      " [[ 9 10 11]\n",
      "  [12 13 14]\n",
      "  [15 16 17]]\n",
      "\n",
      " [[18 19 20]\n",
      "  [21 22 23]\n",
      "  [24 25 26]]]\n"
     ]
    }
   ],
   "source": [
    "import numpy as np\n",
    "# Create a 3x3x3 multidimensional array\n",
    "n = np.arange(27).reshape((3, 3, 3))\n",
    "# Print the value at the 3rd row and column of each array\n",
    "print(n[:,2,2])\n",
    "# Print the complete array\n",
    "print(n)"
   ]
  },
  {
   "cell_type": "markdown",
   "metadata": {},
   "source": [
    "## Jupyter"
   ]
  },
  {
   "cell_type": "markdown",
   "metadata": {},
   "source": [
    "Jupyter permite incluir num único documento \"células\" com código interativo, texto explicativo, resultados e gráficos. Código interativo posto que podemos modificar o código e executá-lo desde qualquer célula. \n",
    "\n",
    "Os notebooks de Jupyter são __colaborativos__, __facilmente partilhados__, __pensados para publicação__ e, sobretudo, __reproduzíveis__. Por tudo isso e mais são ideais para a educação, informática científica e, em especial, no big data e análise de dados."
   ]
  },
  {
   "cell_type": "markdown",
   "metadata": {},
   "source": [
    "Executar o código é tão simples como incluir uma célula de código e premir “Run” (ou CTRL + Enter):"
   ]
  },
  {
   "cell_type": "code",
   "execution_count": 3,
   "metadata": {},
   "outputs": [
    {
     "name": "stdout",
     "output_type": "stream",
     "text": [
      "1.26.4\n",
      "3.8.2\n",
      "1.4.0\n"
     ]
    }
   ],
   "source": [
    "import jupyter, numpy, matplotlib, sklearn\n",
    "# print(jupyter.__version__) -----> jupyter has no attr __version__\n",
    "#print versions each of libraries \n",
    "print(numpy.__version__)\n",
    "print(matplotlib.__version__)\n",
    "print(sklearn.__version__)"
   ]
  },
  {
   "cell_type": "markdown",
   "metadata": {},
   "source": [
    "Depois de cada célula mostra-se o resultado da sua execução, que pode ser intercalado com células de texto explicativo. Esse texto formata-se com [__markdown__](https://markdown.es/)."
   ]
  },
  {
   "cell_type": "code",
   "execution_count": 5,
   "metadata": {},
   "outputs": [],
   "source": [
    "a = 1\n",
    "b = 2\n",
    "c = 4"
   ]
  },
  {
   "cell_type": "code",
   "execution_count": 6,
   "metadata": {},
   "outputs": [
    {
     "name": "stdout",
     "output_type": "stream",
     "text": [
      "1\n",
      "2\n",
      "4\n"
     ]
    }
   ],
   "source": [
    "print(a)\n",
    "print(b)\n",
    "print(c)"
   ]
  },
  {
   "cell_type": "code",
   "execution_count": 7,
   "metadata": {},
   "outputs": [
    {
     "name": "stdout",
     "output_type": "stream",
     "text": [
      "marcosb\n"
     ]
    }
   ],
   "source": [
    "#concatination\n",
    "a = 'marcos'\n",
    "b = 'b'\n",
    "c = a + b\n",
    "print(c)"
   ]
  },
  {
   "cell_type": "markdown",
   "metadata": {},
   "source": [
    "Experimente executar de novo o código que imprime o valor das variáveis \"a\", \"b\" e \"c\". Referimos-nos a isto quando falamos de código interativo"
   ]
  },
  {
   "cell_type": "markdown",
   "metadata": {},
   "source": [
    "Inserir uma célula depois desta copiando o código da última célula de código, modificar os valores das variáveis “a” e “b” e executá-la. Ao ser um notebook interativo, pode incluir novas células para modificar a execução, por exemplo para encontrar erros ou compreender melhor como se executa o código."
   ]
  },
  {
   "cell_type": "code",
   "execution_count": 8,
   "metadata": {},
   "outputs": [
    {
     "name": "stdout",
     "output_type": "stream",
     "text": [
      "marcosbmarcosb\n"
     ]
    }
   ],
   "source": [
    "#concatenation\n",
    "print(a+b+c)"
   ]
  },
  {
   "cell_type": "markdown",
   "metadata": {},
   "source": [
    "## Numpy"
   ]
  },
  {
   "cell_type": "markdown",
   "metadata": {},
   "source": [
    "Livraria para o cálculo numérico de referência em Python."
   ]
  },
  {
   "cell_type": "code",
   "execution_count": 9,
   "metadata": {},
   "outputs": [
    {
     "name": "stdout",
     "output_type": "stream",
     "text": [
      "1.26.4\n"
     ]
    }
   ],
   "source": [
    "import numpy as np\n",
    "print(np.__version__)"
   ]
  },
  {
   "cell_type": "code",
   "execution_count": 14,
   "metadata": {},
   "outputs": [
    {
     "name": "stdout",
     "output_type": "stream",
     "text": [
      "[1 2 3]\n",
      "<class 'numpy.ndarray'>\n"
     ]
    }
   ],
   "source": [
    "a = np.array([1,2,3])\n",
    "print(a)\n",
    "print(type(a))"
   ]
  },
  {
   "cell_type": "code",
   "execution_count": 15,
   "metadata": {},
   "outputs": [
    {
     "name": "stdout",
     "output_type": "stream",
     "text": [
      "[[1 2 3]\n",
      " [3 4 5]]\n",
      "2\n",
      "(2, 3)\n"
     ]
    }
   ],
   "source": [
    "b = np.array([[1,2,3],[3,4,5]])\n",
    "print(b)\n",
    "print(b.ndim)#array's quantety\n",
    "print(b.shape)#dimençoes"
   ]
  },
  {
   "cell_type": "code",
   "execution_count": 16,
   "metadata": {},
   "outputs": [
    {
     "name": "stdout",
     "output_type": "stream",
     "text": [
      "[[1 2]\n",
      " [3 3]\n",
      " [4 5]]\n",
      "2\n",
      "(3, 2)\n"
     ]
    }
   ],
   "source": [
    "#reshape from 2x3 to 3x2\n",
    "b = b.reshape(3,2)\n",
    "print(b)\n",
    "print(b.ndim)\n",
    "print(b.shape)"
   ]
  },
  {
   "cell_type": "code",
   "execution_count": 17,
   "metadata": {},
   "outputs": [
    {
     "name": "stdout",
     "output_type": "stream",
     "text": [
      "[[[1.+0.j 2.+0.j 3.+0.j]]]\n",
      "3\n",
      "(1, 1, 3)\n",
      "complex128\n"
     ]
    }
   ],
   "source": [
    "c = np.array([1,2,3], ndmin = 3, dtype = complex)\n",
    "print(c)\n",
    "print(c.ndim)#array multidimencional\n",
    "print(c.shape)\n",
    "print(c.dtype)"
   ]
  },
  {
   "cell_type": "code",
   "execution_count": 20,
   "metadata": {},
   "outputs": [
    {
     "name": "stdout",
     "output_type": "stream",
     "text": [
      "[ 0  1  2  3  4  5  6  7  8  9 10 11 12 13 14 15 16 17 18 19 20 21 22 23]\n",
      "1\n",
      "[[[ 0  1  2]\n",
      "  [ 3  4  5]\n",
      "  [ 6  7  8]\n",
      "  [ 9 10 11]]\n",
      "\n",
      " [[12 13 14]\n",
      "  [15 16 17]\n",
      "  [18 19 20]\n",
      "  [21 22 23]]]\n",
      "3\n"
     ]
    }
   ],
   "source": [
    "d = np.arange(24)\n",
    "print(d)\n",
    "print(d.ndim)\n",
    "e = d.reshape(2,4,3)\n",
    "print(e)\n",
    "print(e.ndim)"
   ]
  },
  {
   "cell_type": "code",
   "execution_count": 5,
   "metadata": {},
   "outputs": [
    {
     "name": "stdout",
     "output_type": "stream",
     "text": [
      "----------------------\n",
      "[[4.64978590e-310 0.00000000e+000 6.94528287e-310 6.94530044e-310\n",
      "  6.94529917e-310]\n",
      " [6.94530044e-310 6.94529954e-310 6.94529945e-310 6.94529954e-310\n",
      "  6.94528328e-310]\n",
      " [6.94529954e-310 6.94528328e-310 6.94529895e-310 6.94530044e-310\n",
      "  6.94530042e-310]\n",
      " [4.65078688e-310 6.94528286e-310 6.94530042e-310 4.65078688e-310\n",
      "  6.94530044e-310]\n",
      " [6.94529895e-310 6.94530044e-310 6.94529895e-310 6.94530044e-310\n",
      "  2.84581812e-321]]\n",
      "[[ 94112708534451               0]\n",
      " [140573169500112 140573169497136]\n",
      " [              1               0]]\n",
      "[[0. 0.]\n",
      " [0. 0.]]\n",
      "[1. 1. 1. 1. 1.]\n"
     ]
    }
   ],
   "source": [
    "boris=np.empty([5,5], dtype=float)\n",
    "print('----------------------')\n",
    "print(boris)\n",
    "f = np.empty([3,2], dtype = int)\n",
    "g = np.zeros((2,2))\n",
    "h = np.ones(5)\n",
    "print(f)\n",
    "print(g)\n",
    "print(h)"
   ]
  },
  {
   "cell_type": "code",
   "execution_count": 22,
   "metadata": {},
   "outputs": [
    {
     "name": "stdout",
     "output_type": "stream",
     "text": [
      "[0 1 2 3]\n"
     ]
    }
   ],
   "source": [
    "i = np.asarray(range(4))\n",
    "print(i)"
   ]
  },
  {
   "cell_type": "code",
   "execution_count": 6,
   "metadata": {},
   "outputs": [
    {
     "name": "stdout",
     "output_type": "stream",
     "text": [
      "[10. 15. 20. 25. 30.]\n",
      "[ 10.          12.91549665  16.68100537  21.5443469   27.82559402\n",
      "  35.93813664  46.41588834  59.94842503  77.42636827 100.        ]\n"
     ]
    }
   ],
   "source": [
    "#create a array with 5 elements with uniform_numbers\n",
    "j = np.linspace(10,20,5)\n",
    "k = np.logspace(1,2,num=10)\n",
    "print(j)\n",
    "print(k)"
   ]
  },
  {
   "cell_type": "code",
   "execution_count": 24,
   "metadata": {},
   "outputs": [
    {
     "name": "stdout",
     "output_type": "stream",
     "text": [
      "[0 1 2 3 4 5 6 7 8 9]\n",
      "3\n",
      "[2 3 4 5 6]\n",
      "[2 4 6]\n",
      "[2 4 6]\n",
      "[ 0  1  2 42  4  5  6  7  8  9]\n"
     ]
    }
   ],
   "source": [
    "l = np.arange(10)\n",
    "print(l)\n",
    "print(l[3])\n",
    "print(l[2:7])\n",
    "print(l[2:7:2])\n",
    "s = slice(2,7,2)\n",
    "print(l[s])\n",
    "l[3] = 42\n",
    "print(l)"
   ]
  },
  {
   "cell_type": "code",
   "execution_count": 25,
   "metadata": {},
   "outputs": [
    {
     "name": "stdout",
     "output_type": "stream",
     "text": [
      "[[1 2 3]\n",
      " [4 5 6]\n",
      " [7 8 9]]\n",
      "Fila 1 à frente:\n",
      " [[4 5 6]\n",
      " [7 8 9]]\n",
      "Coluna 1 à frente:\n",
      " [[2 3]\n",
      " [5 6]\n",
      " [8 9]]\n",
      "Elementos maiores de 5:\n",
      " [6 7 8 9]\n"
     ]
    }
   ],
   "source": [
    "#create an array 3x3x3\n",
    "m = np.array([[1,2,3],[4,5,6],[7,8,9]])\n",
    "print(m)\n",
    "#slides arrays\n",
    "print('Fila 1 à frente:\\n', m[1:]) \n",
    "print('Coluna 1 à frente:\\n', m[...,1:]) \n",
    "print('Elementos maiores de 5:\\n', m[m > 5])"
   ]
  },
  {
   "cell_type": "markdown",
   "metadata": {},
   "source": [
    "__Cuidado!__ Arrays não multiplicáveis pelas suas dimensões, produzem operações permitidas por broadcasting:"
   ]
  },
  {
   "cell_type": "code",
   "execution_count": 7,
   "metadata": {},
   "outputs": [
    {
     "name": "stdout",
     "output_type": "stream",
     "text": [
      "[1 2 3 4]\n",
      "[10 20 30 40]\n",
      "(4,) (4,)\n",
      "[ 10  40  90 160]\n",
      "[11 22 33 44]\n"
     ]
    }
   ],
   "source": [
    "n = np.arange(1,5)\n",
    "m = np.arange(10,50,10)\n",
    "print(n)\n",
    "print(m)\n",
    "print(n.shape, m.shape)\n",
    "print(n * m)\n",
    "print(n + m)"
   ]
  },
  {
   "cell_type": "code",
   "execution_count": 8,
   "metadata": {},
   "outputs": [
    {
     "name": "stdout",
     "output_type": "stream",
     "text": [
      "[[9.71424619e-01 4.66288896e-01 7.00150728e-01 3.96279535e-01]\n",
      " [8.56860897e-01 9.60900642e-01 3.07865738e-04 7.25776119e-01]\n",
      " [1.64350198e-01 8.40681508e-01 5.38287172e-01 6.31684920e-02]\n",
      " [6.94922024e-01 4.72847961e-01 5.77945331e-02 4.91106433e-01]]\n",
      "(4, 4)\n",
      "[[9.71424619e-01 9.32577793e-01 2.10045218e+00 1.58511814e+00]\n",
      " [8.56860897e-01 1.92180128e+00 9.23597214e-04 2.90310447e+00]\n",
      " [1.64350198e-01 1.68136302e+00 1.61486151e+00 2.52673968e-01]\n",
      " [6.94922024e-01 9.45695921e-01 1.73383599e-01 1.96442573e+00]]\n",
      "(4, 4)\n"
     ]
    }
   ],
   "source": [
    "o = np.random.rand(4,4)\n",
    "print(o)\n",
    "print(o.shape)\n",
    "p = n * o\n",
    "print(n)\n",
    "print(p)\n",
    "print(p.shape)"
   ]
  },
  {
   "cell_type": "code",
   "execution_count": 9,
   "metadata": {},
   "outputs": [
    {
     "name": "stdout",
     "output_type": "stream",
     "text": [
      "[1 2 3 4]\n",
      "[[9.71424619e-01 4.66288896e-01 7.00150728e-01 3.96279535e-01]\n",
      " [8.56860897e-01 9.60900642e-01 3.07865738e-04 7.25776119e-01]\n",
      " [1.64350198e-01 8.40681508e-01 5.38287172e-01 6.31684920e-02]\n",
      " [6.94922024e-01 4.72847961e-01 5.77945331e-02 4.91106433e-01]]\n",
      "[[1.97142462 2.4662889  3.70015073 4.39627954]\n",
      " [1.8568609  2.96090064 3.00030787 4.72577612]\n",
      " [1.1643502  2.84068151 3.53828717 4.06316849]\n",
      " [1.69492202 2.47284796 3.05779453 4.49110643]]\n"
     ]
    }
   ],
   "source": [
    "print(n)\n",
    "print(o)\n",
    "print(n + o)"
   ]
  },
  {
   "cell_type": "code",
   "execution_count": 12,
   "metadata": {},
   "outputs": [
    {
     "name": "stdout",
     "output_type": "stream",
     "text": [
      "[ 0  5 10 15 20 25 30 35 40 45 50 55]\n",
      "[[ 0  5 10 15]\n",
      " [20 25 30 35]\n",
      " [40 45 50 55]]\n",
      "0\n",
      "5\n",
      "10\n",
      "15\n",
      "20\n",
      "25\n",
      "30\n",
      "35\n",
      "40\n",
      "45\n",
      "50\n",
      "55\n"
     ]
    }
   ],
   "source": [
    "boris=np.arange(0,60,5)\n",
    "q = np.arange(0,60,5).reshape(3,4)\n",
    "print(q)\n",
    "for x in np.nditer(q):\n",
    "    print(x)"
   ]
  },
  {
   "cell_type": "code",
   "execution_count": 13,
   "metadata": {},
   "outputs": [
    {
     "name": "stdout",
     "output_type": "stream",
     "text": [
      "[[ 0  5 10 15]\n",
      " [20 25 30 35]\n",
      " [40 45 50 55]]\n",
      "[ 0  5 10 15 20 25 30 35 40 45 50 55]\n",
      "[[ 0 20 40]\n",
      " [ 5 25 45]\n",
      " [10 30 50]\n",
      " [15 35 55]]\n",
      "[[ 0 20 40]\n",
      " [ 5 25 45]\n",
      " [10 30 50]\n",
      " [15 35 55]]\n"
     ]
    }
   ],
   "source": [
    "print(q)\n",
    "print(q.flatten())\n",
    "print(q.transpose())\n",
    "print(q.T)"
   ]
  },
  {
   "cell_type": "code",
   "execution_count": 38,
   "metadata": {},
   "outputs": [
    {
     "name": "stdout",
     "output_type": "stream",
     "text": [
      "[[1 2]\n",
      " [3 4]]\n",
      "[[5 6]\n",
      " [7 8]]\n",
      "Concatenar:\n",
      "[[1 2]\n",
      " [3 4]\n",
      " [5 6]\n",
      " [7 8]]\n",
      "[[1 2 5 6]\n",
      " [3 4 7 8]]\n",
      "Stacking:\n",
      "[[[1 2]\n",
      "  [3 4]]\n",
      "\n",
      " [[5 6]\n",
      "  [7 8]]]\n",
      "(2, 2, 2)\n",
      "[[[1 2]\n",
      "  [3 4]]\n",
      "\n",
      " [[5 6]\n",
      "  [7 8]]]\n",
      "[[[1 2]\n",
      "  [5 6]]\n",
      "\n",
      " [[3 4]\n",
      "  [7 8]]]\n",
      "[[[1 5]\n",
      "  [2 6]]\n",
      "\n",
      " [[3 7]\n",
      "  [4 8]]]\n"
     ]
    }
   ],
   "source": [
    "r = np.array([[1,2],[3,4]])\n",
    "s = np.array([[5,6],[7,8]])\n",
    "print(r)\n",
    "print(s)\n",
    "print('Concatenar:')\n",
    "print(np.concatenate((r,s)))\n",
    "print(np.concatenate((r,s),axis = 1))\n",
    "print('Stacking:')\n",
    "print(np.stack((r,s)))\n",
    "print(np.stack((r,s)).shape)\n",
    "print(np.stack((r,s),0))\n",
    "print(np.stack((r,s),1))\n",
    "print(np.stack((r,s),2))"
   ]
  },
  {
   "cell_type": "code",
   "execution_count": 54,
   "metadata": {},
   "outputs": [
    {
     "name": "stdout",
     "output_type": "stream",
     "text": [
      "1---->\t [0 1 2 3 4 5 6 7 8]\n",
      "2---->\t [array([0, 1, 2]), array([3, 4, 5]), array([6, 7, 8])]\n",
      "3---->\t [array([0, 1, 2, 3]), array([4, 5, 6]), array([7, 8])]\n",
      "4---->\t [[0 1 2]\n",
      " [3 4 5]\n",
      " [6 7 8]]\n",
      "5---->\t\n",
      " [ 0  1 11 12  2  3  4  5  6  7  8]\n",
      "6---->\t\n",
      " [[ 0  1  2]\n",
      " [ 3  4  5]\n",
      " [11 12 13]\n",
      " [ 6  7  8]]\n",
      "7---->\t\n",
      " [[ 0  1 11  2]\n",
      " [ 3  4 12  5]\n",
      " [ 6  7 13  8]]\n",
      "8---->\t\n",
      " [0 1 3 4 5 6 7 8]\n",
      "9---->\t\n",
      " [[0 1 2]\n",
      " [3 4 5]]\n",
      "10---->\t\n",
      " [1 3 5 7]\n"
     ]
    }
   ],
   "source": [
    "t = np.arange(9)\n",
    "print('1---->\\t',t)\n",
    "print('2---->\\t',np.split(t,3))\n",
    "print('3---->\\t',np.split(t,[4,7]))\n",
    "t = t.reshape(3,3)\n",
    "print('4---->\\t',t)\n",
    "print('5---->\\t\\n',np.insert(t,2,[11,12]))\n",
    "print('6---->\\t\\n',np.insert(t,2,[11,12,13],axis = 0))#inser array into matrix(line_possition=2) \n",
    "print('7---->\\t\\n',np.insert(t,2,[11,12,13],axis = 1))#inser array into matrix(row_possition=2)\n",
    "print('8---->\\t\\n',np.delete(t,2))\n",
    "print('9---->\\t\\n',np.delete(t,2,axis = 0))\n",
    "print('10---->\\t\\n',np.delete(t,np.s_[::2]))"
   ]
  },
  {
   "cell_type": "markdown",
   "metadata": {},
   "source": [
    "Funções estatísticas:"
   ]
  },
  {
   "cell_type": "code",
   "execution_count": 40,
   "metadata": {},
   "outputs": [
    {
     "name": "stdout",
     "output_type": "stream",
     "text": [
      "[[5 6]\n",
      " [7 8]]\n",
      "8\n",
      "5\n",
      "3\n",
      "6.5\n",
      "6.5\n",
      "6.5\n",
      "1.118033988749895\n",
      "1.25\n"
     ]
    }
   ],
   "source": [
    "print(s)\n",
    "print(s.max())\n",
    "print(s.min())\n",
    "print(s.ptp())    # Rango: max - min\n",
    "print(s.mean())\n",
    "print(np.mean(s))\n",
    "print(np.median(s))\n",
    "print(s.std())\n",
    "print(s.var())"
   ]
  },
  {
   "cell_type": "markdown",
   "metadata": {},
   "source": [
    "Álgebra linear, operações de matrizes:"
   ]
  },
  {
   "cell_type": "code",
   "execution_count": 41,
   "metadata": {},
   "outputs": [
    {
     "name": "stdout",
     "output_type": "stream",
     "text": [
      "[[2.25 0.25]\n",
      " [0.25 2.25]]\n",
      "<class 'numpy.matrix'>\n",
      "[[0. 0.]\n",
      " [0. 0.]]\n",
      "[[1. 1.]\n",
      " [1. 1.]]\n",
      "[[0. 0. 0. 0.]\n",
      " [1. 0. 0. 0.]\n",
      " [0. 1. 0. 0.]\n",
      " [0. 0. 1. 0.]]\n",
      "[[1. 0. 0.]\n",
      " [0. 1. 0.]\n",
      " [0. 0. 1.]]\n",
      "[[0.93248033 0.9982164  0.15768404]\n",
      " [0.03046725 0.34877686 0.41580043]\n",
      " [0.64152796 0.00862738 0.75382514]]\n"
     ]
    }
   ],
   "source": [
    "import numpy.matlib\n",
    "\n",
    "print(np.matlib.empty((2,2)))\n",
    "print(type(np.matlib.empty((2,2))))\n",
    "print(np.matlib.zeros((2,2)))\n",
    "print(np.matlib.ones((2,2)))\n",
    "print(np.matlib.eye(4,4,-1))\n",
    "print(np.matlib.identity(3))\n",
    "print(np.matlib.rand(3,3))"
   ]
  },
  {
   "cell_type": "code",
   "execution_count": 42,
   "metadata": {},
   "outputs": [
    {
     "name": "stdout",
     "output_type": "stream",
     "text": [
      "(2, 2)\n",
      "(2, 2)\n",
      "(1, 2)\n",
      "[[4 1]\n",
      " [2 2]]\n",
      "[[1 2]]\n",
      "matmul: Input operand 1 has a mismatch in its core dimension 0, with gufunc signature (n?,k),(k,m?)->(n?,m?) (size 1 is different from 2)\n"
     ]
    }
   ],
   "source": [
    "u = np.matrix([[1,0],[0,1]])\n",
    "v = np.matrix([[4,1],[2,2]])\n",
    "w = np.matrix([1,2])\n",
    "print(u.shape)\n",
    "print(v.shape)\n",
    "print(w.shape)\n",
    "print(np.matmul(u,v))\n",
    "print(np.matmul(w,u))\n",
    "try:\n",
    "    print(np.matmul(u,w))\n",
    "except ValueError as e:\n",
    "    print(e)"
   ]
  },
  {
   "cell_type": "code",
   "execution_count": 43,
   "metadata": {},
   "outputs": [
    {
     "name": "stdout",
     "output_type": "stream",
     "text": [
      "[[4 1]\n",
      " [2 2]]\n",
      "[[ 0.33333333 -0.16666667]\n",
      " [-0.33333333  0.66666667]]\n",
      "[[1. 0.]\n",
      " [0. 1.]]\n"
     ]
    }
   ],
   "source": [
    "print(v)\n",
    "print(np.linalg.inv(v))\n",
    "print(np.matmul(v, np.linalg.inv(v)))"
   ]
  },
  {
   "cell_type": "markdown",
   "metadata": {},
   "source": [
    "## Matplotlib"
   ]
  },
  {
   "cell_type": "markdown",
   "metadata": {},
   "source": [
    "Temos disponíveis os modos interativos no notebook e em linha."
   ]
  },
  {
   "cell_type": "code",
   "execution_count": 3,
   "metadata": {},
   "outputs": [
    {
     "data": {
      "image/png": "[encoded data removed]",
      "text/plain": [
       "<Figure size 640x480 with 1 Axes>"
      ]
     },
     "metadata": {},
     "output_type": "display_data"
    }
   ],
   "source": [
    "from matplotlib import pyplot as plt\n",
    "import numpy as np\n",
    "# %matplotlib notebook\n",
    "# #%matplotlib inline\n",
    "\n",
    "x = np.arange(1,11)\n",
    "y = 2 * x + 5\n",
    "plt.title('Matplotlib')\n",
    "plt.xlabel('x')\n",
    "plt.ylabel('y')\n",
    "plt.plot(x,y)\n",
    "plt.show()"
   ]
  },
  {
   "cell_type": "code",
   "execution_count": 4,
   "metadata": {},
   "outputs": [
    {
     "data": {
      "image/png": "[encoded data removed]",
      "text/plain": [
       "<Figure size 640x480 with 1 Axes>"
      ]
     },
     "metadata": {},
     "output_type": "display_data"
    }
   ],
   "source": [
    "plt.figure()    # Inicializar um novo gráfico, necessário para \"\"%matplotlib notebook\"\n",
    "\n",
    "plt.title('Matplotlib')\n",
    "plt.xlabel('x')\n",
    "plt.ylabel('y')\n",
    "plt.plot(x,y)\n",
    "plt.show()"
   ]
  },
  {
   "cell_type": "code",
   "execution_count": 5,
   "metadata": {},
   "outputs": [
    {
     "data": {
      "image/png": "[encoded data removed]",
      "text/plain": [
       "<Figure size 640x480 with 1 Axes>"
      ]
     },
     "metadata": {},
     "output_type": "display_data"
    }
   ],
   "source": [
    "plt.figure()\n",
    "\n",
    "plt.title('Matplotlib')\n",
    "plt.xlabel('y')\n",
    "plt.ylabel('x')\n",
    "plt.plot(y,x, '--y')\n",
    "plt.show()"
   ]
  },
  {
   "cell_type": "code",
   "execution_count": null,
   "metadata": {},
   "outputs": [],
   "source": [
    "x = [5,8,10]\n",
    "y = [12,16,6]\n",
    "x2 = [6,9,11]\n",
    "y2 = [6,15,7]\n",
    "\n",
    "plt.figure()\n",
    "\n",
    "plt.bar(x,y,align='center')\n",
    "plt.bar(x2,y2,color='g',align='center')\n",
    "plt.title('Gráfica barras')\n",
    "plt.ylabel('Y axis')\n",
    "plt.xlabel('X axis')\n",
    "plt.show()"
   ]
  },
  {
   "cell_type": "code",
   "execution_count": 6,
   "metadata": {},
   "outputs": [
    {
     "name": "stdout",
     "output_type": "stream",
     "text": [
      "[3 4 5 2 1] [  0  20  40  60  80 100]\n"
     ]
    },
    {
     "data": {
      "image/png": "[encoded data removed]",
      "text/plain": [
       "<Figure size 640x480 with 1 Axes>"
      ]
     },
     "metadata": {},
     "output_type": "display_data"
    }
   ],
   "source": [
    "t = np.array([22,87,5,43,56,73,55,54,11,20,51,5,79,31,27])\n",
    "\n",
    "hist,bins = np.histogram(t,bins=[0,20,40,60,80,100])\n",
    "print(hist, bins)\n",
    "\n",
    "plt.figure()\n",
    "\n",
    "plt.hist(t, bins)\n",
    "plt.title('Histograma')\n",
    "plt.show()"
   ]
  },
  {
   "cell_type": "code",
   "execution_count": 7,
   "metadata": {},
   "outputs": [
    {
     "data": {
      "image/png": "[encoded data removed]",
      "text/plain": [
       "<Figure size 640x480 with 1 Axes>"
      ]
     },
     "metadata": {},
     "output_type": "display_data"
    }
   ],
   "source": [
    "p = np.arange(0.,5.,0.2)\n",
    "\n",
    "plt.figure()\n",
    "\n",
    "plt.plot(p,p,'r--',p,p**2,'bs',p,p**3,'g^',linewidth=2.0)\n",
    "plt.show()"
   ]
  },
  {
   "cell_type": "code",
   "execution_count": 8,
   "metadata": {},
   "outputs": [
    {
     "data": {
      "image/png": "[encoded data removed]",
      "text/plain": [
       "<Figure size 640x480 with 2 Axes>"
      ]
     },
     "metadata": {},
     "output_type": "display_data"
    }
   ],
   "source": [
    "def f(t):\n",
    "    return np.exp(-t)*np.cos(2*np.pi*t)\n",
    "\n",
    "t1 = np.arange(0.,5.,0.1)\n",
    "t2 = np.arange(0.,5.,0.02)\n",
    "\n",
    "plt.figure(7)\n",
    "plt.subplot(211)\n",
    "plt.plot(t1,f(t1),'bo',t2,f(t2),'k')\n",
    "\n",
    "plt.subplot(212)\n",
    "plt.plot(t2,np.cos(2*np.pi*t2),'r--')\n",
    "plt.show()"
   ]
  },
  {
   "cell_type": "code",
   "execution_count": 9,
   "metadata": {},
   "outputs": [
    {
     "data": {
      "text/plain": [
       "[<matplotlib.lines.Line2D at 0x7efe285bf4f0>]"
      ]
     },
     "execution_count": 9,
     "metadata": {},
     "output_type": "execute_result"
    },
    {
     "data": {
      "image/png": "[encoded data removed]",
      "text/plain": [
       "<Figure size 640x480 with 1 Axes>"
      ]
     },
     "metadata": {},
     "output_type": "display_data"
    },
    {
     "data": {
      "image/png": "[encoded data removed]",
      "text/plain": [
       "<Figure size 640x480 with 2 Axes>"
      ]
     },
     "metadata": {},
     "output_type": "display_data"
    }
   ],
   "source": [
    "plt.figure(8)\n",
    "plt.subplot(211)\n",
    "plt.plot([1,2,3])\n",
    "\n",
    "plt.figure(9)\n",
    "plt.plot([4,5,6])\n",
    "\n",
    "plt.figure(8)\n",
    "plt.subplot(212)\n",
    "plt.plot([4,5,6])"
   ]
  },
  {
   "cell_type": "code",
   "execution_count": 18,
   "metadata": {},
   "outputs": [
    {
     "ename": "NameError",
     "evalue": "name 'ax' is not defined",
     "output_type": "error",
     "traceback": [
      "\u001b[0;31m---------------------------------------------------------------------------\u001b[0m",
      "\u001b[0;31mNameError\u001b[0m                                 Traceback (most recent call last)",
      "Cell \u001b[0;32mIn[18], line 13\u001b[0m\n\u001b[1;32m     10\u001b[0m x, y \u001b[38;5;241m=\u001b[39m np\u001b[38;5;241m.\u001b[39mmeshgrid(x,y)\n\u001b[1;32m     11\u001b[0m z \u001b[38;5;241m=\u001b[39m np\u001b[38;5;241m.\u001b[39msin(np\u001b[38;5;241m.\u001b[39msqrt(x\u001b[38;5;241m*\u001b[39m\u001b[38;5;241m*\u001b[39m\u001b[38;5;241m2\u001b[39m\u001b[38;5;241m+\u001b[39my\u001b[38;5;241m*\u001b[39m\u001b[38;5;241m*\u001b[39m\u001b[38;5;241m2\u001b[39m))\n\u001b[0;32m---> 13\u001b[0m surf \u001b[38;5;241m=\u001b[39m \u001b[43max\u001b[49m\u001b[38;5;241m.\u001b[39mplot_surface(x,y,z,cmap\u001b[38;5;241m=\u001b[39mcm\u001b[38;5;241m.\u001b[39mcoolwarm,linewidth\u001b[38;5;241m=\u001b[39m\u001b[38;5;241m0\u001b[39m,\n\u001b[1;32m     14\u001b[0m                        antialiased\u001b[38;5;241m=\u001b[39m\u001b[38;5;28;01mFalse\u001b[39;00m)\n\u001b[1;32m     16\u001b[0m ax\u001b[38;5;241m.\u001b[39mset_zlim(\u001b[38;5;241m-\u001b[39m\u001b[38;5;241m1.01\u001b[39m,\u001b[38;5;241m1.01\u001b[39m)\n\u001b[1;32m     17\u001b[0m ax\u001b[38;5;241m.\u001b[39mzaxis\u001b[38;5;241m.\u001b[39mset_major_locator(LinearLocator(\u001b[38;5;241m10\u001b[39m))\n",
      "\u001b[0;31mNameError\u001b[0m: name 'ax' is not defined"
     ]
    },
    {
     "data": {
      "text/plain": [
       "<Figure size 640x480 with 0 Axes>"
      ]
     },
     "metadata": {},
     "output_type": "display_data"
    }
   ],
   "source": [
    "from mpl_toolkits.mplot3d import Axes3D\n",
    "from matplotlib import cm\n",
    "from matplotlib.ticker import LinearLocator, FormatStrFormatter\n",
    "\n",
    "fig = plt.figure()\n",
    "# ax = fig.gca(projection='3d')\n",
    "\n",
    "x = np.arange(-5,5,0.25)\n",
    "y = np.arange(-5,5,0.25)\n",
    "x, y = np.meshgrid(x,y)\n",
    "z = np.sin(np.sqrt(x**2+y**2))\n",
    "\n",
    "surf = ax.plot_surface(x,y,z,cmap=cm.coolwarm,linewidth=0,\n",
    "                       antialiased=False)\n",
    "\n",
    "ax.set_zlim(-1.01,1.01)\n",
    "ax.zaxis.set_major_locator(LinearLocator(10))\n",
    "ax.zaxis.set_major_formatter(FormatStrFormatter('%.02f'))\n",
    "\n",
    "fig.colorbar(surf,shrink=0.5,aspect=5)\n",
    "\n",
    "plt.show()"
   ]
  },
  {
   "cell_type": "markdown",
   "metadata": {},
   "source": [
    "## Scikit-learn"
   ]
  },
  {
   "cell_type": "code",
   "execution_count": 11,
   "metadata": {},
   "outputs": [
    {
     "name": "stdout",
     "output_type": "stream",
     "text": [
      "[[ 0.  0.  5. ...  0.  0.  0.]\n",
      " [ 0.  0.  0. ... 10.  0.  0.]\n",
      " [ 0.  0.  0. ... 16.  9.  0.]\n",
      " ...\n",
      " [ 0.  0.  1. ...  6.  0.  0.]\n",
      " [ 0.  0.  2. ... 12.  0.  0.]\n",
      " [ 0.  0. 10. ... 12.  1.  0.]]\n",
      "[0 1 2 ... 8 9 8]\n",
      "[[ 0.  0.  5. 13.  9.  1.  0.  0.]\n",
      " [ 0.  0. 13. 15. 10. 15.  5.  0.]\n",
      " [ 0.  3. 15.  2.  0. 11.  8.  0.]\n",
      " [ 0.  4. 12.  0.  0.  8.  8.  0.]\n",
      " [ 0.  5.  8.  0.  0.  9.  8.  0.]\n",
      " [ 0.  4. 11.  0.  1. 12.  7.  0.]\n",
      " [ 0.  2. 14.  5. 10. 12.  0.  0.]\n",
      " [ 0.  0.  6. 13. 10.  0.  0.  0.]]\n"
     ]
    }
   ],
   "source": [
    "from sklearn import datasets\n",
    "\n",
    "iris = datasets.load_iris()\n",
    "digits = datasets.load_digits()\n",
    "\n",
    "print(digits.data)\n",
    "print(digits.target)\n",
    "print(digits.images[0])"
   ]
  },
  {
   "cell_type": "code",
   "execution_count": 12,
   "metadata": {},
   "outputs": [
    {
     "data": {
      "image/png": "[encoded data removed]",
      "text/plain": [
       "<Figure size 300x300 with 1 Axes>"
      ]
     },
     "metadata": {},
     "output_type": "display_data"
    },
    {
     "name": "stdout",
     "output_type": "stream",
     "text": [
      "[8]\n"
     ]
    }
   ],
   "source": [
    "from sklearn import svm\n",
    "\n",
    "clf = svm.SVC(gamma=0.001,C=100.)\n",
    "\n",
    "clf.fit(digits.data[:-1],digits.target[:-1])\n",
    "\n",
    "plt.figure(figsize=(3,3))\n",
    "plt.imshow(digits.images[-1],cmap=plt.cm.gray_r,interpolation='nearest')\n",
    "plt.show()\n",
    "\n",
    "print(clf.predict(digits.data[-1:]))"
   ]
  },
  {
   "cell_type": "code",
   "execution_count": 13,
   "metadata": {},
   "outputs": [
    {
     "name": "stdout",
     "output_type": "stream",
     "text": [
      "[8]\n"
     ]
    }
   ],
   "source": [
    "import pickle\n",
    "\n",
    "s = pickle.dumps(clf)\n",
    "\n",
    "clf2 = pickle.loads(s)\n",
    "\n",
    "print(clf2.predict(digits.data[-1:]))"
   ]
  },
  {
   "cell_type": "markdown",
   "metadata": {},
   "source": [
    "## Exercícios"
   ]
  },
  {
   "cell_type": "markdown",
   "metadata": {
    "jp-MarkdownHeadingCollapsed": true
   },
   "source": [
    "### Criar um array de 3 dimensões e tamanho 2x3x4 com elementos aleatórios e imprimi-lo no ecrã"
   ]
  },
  {
   "cell_type": "code",
   "execution_count": 32,
   "metadata": {},
   "outputs": [
    {
     "name": "stdout",
     "output_type": "stream",
     "text": [
      "[[[18  2  1 93]\n",
      "  [71 77 85 23]\n",
      "  [25 21 29 36]]\n",
      "\n",
      " [[ 4 12 49 94]\n",
      "  [23 13 69 31]\n",
      "  [96 59 42 20]]]\n"
     ]
    }
   ],
   "source": [
    "import numpy as np\n",
    "my_array = np.random.randint(0, 100, size=[2,3,4], dtype=int)\n",
    "print(my_array)"
   ]
  },
  {
   "cell_type": "markdown",
   "metadata": {},
   "source": [
    "### Criar um novo array de 2 dimensões, de elementos aleatórios e tamanho 100x14, e inserir-lhe uma coluna de 1s à esquerda"
   ]
  },
  {
   "cell_type": "code",
   "execution_count": 15,
   "metadata": {},
   "outputs": [
    {
     "name": "stdout",
     "output_type": "stream",
     "text": [
      "[[1.         0.3371914  0.99950849 ... 0.76748878 0.78095361 0.1059364 ]\n",
      " [1.         0.75043617 0.12875103 ... 0.70856698 0.71427632 0.54321448]\n",
      " [1.         0.79463595 0.58032389 ... 0.41489988 0.46916821 0.73888994]\n",
      " ...\n",
      " [1.         0.10544904 0.50903602 ... 0.40855299 0.70823695 0.67197884]\n",
      " [1.         0.43480849 0.11065856 ... 0.3302911  0.24411487 0.94226968]\n",
      " [1.         0.08542273 0.29778526 ... 0.74212599 0.1055614  0.35700251]]\n"
     ]
    }
   ],
   "source": [
    "#array with random values\n",
    "my_array_1 = np.random.random((100, 14))\n",
    "#print my_array_1\n",
    "# print(my_array_1)\n",
    "#creation ones_array\n",
    "ones_array = np.ones((len(my_array_1), 1))\n",
    "concat_array = np.concatenate((ones_array, my_array_1), axis=1)\n",
    "print(concat_array)"
   ]
  },
  {
   "cell_type": "markdown",
   "metadata": {},
   "source": [
    "### Criar um novo array de 2 dimensões, de elementos aleatórios e tamanho 1x15 e multiplicar o seu transposto pelo resultado do exercício anterior"
   ]
  },
  {
   "cell_type": "code",
   "execution_count": 37,
   "metadata": {},
   "outputs": [],
   "source": [
    "import numpy as np\n",
    "my_array_2 = np.random.random((1,15))\n",
    "res = np.dot(concat_array, my_array_2.T)"
   ]
  },
  {
   "cell_type": "markdown",
   "metadata": {},
   "source": [
    "### Representar num gráfico o resultado do exercício anterior"
   ]
  },
  {
   "cell_type": "code",
   "execution_count": 36,
   "metadata": {},
   "outputs": [
    {
     "data": {
      "image/png": "[encoded data removed]",
      "text/plain": [
       "<Figure size 640x480 with 1 Axes>"
      ]
     },
     "metadata": {},
     "output_type": "display_data"
    }
   ],
   "source": [
    "import matplotlib.pyplot as plt\n",
    "\n",
    "x_values=[float(arr[0]) for arr in res]\n",
    "y_values = [x**2 for x in x_values]\n",
    "# Create a scatter plot\n",
    "plt.scatter( x_values, y_values, label='List 1', color='blue', linestyle='--')\n",
    "\n",
    "plt.title('Graph')\n",
    "plt.xlabel('X Axis Label')\n",
    "plt.ylabel('Y Axis Label')\n",
    "plt.show()"
   ]
  },
  {
   "cell_type": "code",
   "execution_count": null,
   "metadata": {},
   "outputs": [],
   "source": []
  },
  {
   "cell_type": "code",
   "execution_count": null,
   "metadata": {},
   "outputs": [],
   "source": []
  }
 ],
 "metadata": {
  "environment": {
   "name": "common-cpu.m54",
   "type": "gcloud",
   "uri": "gcr.io/deeplearning-platform-release/base-cpu:m54"
  },
  "kernelspec": {
   "display_name": "Python 3 (ipykernel)",
   "language": "python",
   "name": "python3"
  },
  "language_info": {
   "codemirror_mode": {
    "name": "ipython",
    "version": 3
   },
   "file_extension": ".py",
   "mimetype": "text/x-python",
   "name": "python",
   "nbconvert_exporter": "python",
   "pygments_lexer": "ipython3",
   "version": "3.10.12"
  }
 },
 "nbformat": 4,
 "nbformat_minor": 4
}
