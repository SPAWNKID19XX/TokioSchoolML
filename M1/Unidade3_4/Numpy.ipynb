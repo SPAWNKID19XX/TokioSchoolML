{
 "cells": [
  {
   "cell_type": "code",
   "execution_count": 1,
   "id": "1475942b-e2cd-4203-80ae-e70343b9fcb3",
   "metadata": {},
   "outputs": [],
   "source": [
    "import numpy as np\n"
   ]
  },
  {
   "cell_type": "code",
   "execution_count": 3,
   "id": "e7f961b6-409d-494b-abd0-3684e63c4ea4",
   "metadata": {},
   "outputs": [],
   "source": [
    "a = np.array([[1,2,3],[2,3,4]])"
   ]
  },
  {
   "cell_type": "code",
   "execution_count": 4,
   "id": "7f28516d-fdce-4780-9221-ce76f76575d1",
   "metadata": {},
   "outputs": [
    {
     "name": "stdout",
     "output_type": "stream",
     "text": [
      "[[1 2 3]\n",
      " [2 3 4]]\n"
     ]
    }
   ],
   "source": [
    "print(a)"
   ]
  },
  {
   "cell_type": "code",
   "execution_count": 6,
   "id": "398a06e4-87cc-4439-960d-145f4d653535",
   "metadata": {},
   "outputs": [
    {
     "data": {
      "text/plain": [
       "(2, 3)"
      ]
     },
     "execution_count": 6,
     "metadata": {},
     "output_type": "execute_result"
    }
   ],
   "source": [
    "a.shape"
   ]
  },
  {
   "cell_type": "code",
   "execution_count": 7,
   "id": "fe2648a7-ba05-46a4-812a-b5d808b34479",
   "metadata": {},
   "outputs": [
    {
     "data": {
      "text/plain": [
       "<function ndarray.reshape>"
      ]
     },
     "execution_count": 7,
     "metadata": {},
     "output_type": "execute_result"
    }
   ],
   "source": [
    "a.reshape"
   ]
  },
  {
   "cell_type": "code",
   "execution_count": 8,
   "id": "f497219a-0b1f-4da8-ba2c-7a739c50d8fc",
   "metadata": {},
   "outputs": [
    {
     "data": {
      "text/plain": [
       "array([[1, 2, 3],\n",
       "       [2, 3, 4]])"
      ]
     },
     "execution_count": 8,
     "metadata": {},
     "output_type": "execute_result"
    }
   ],
   "source": [
    "a"
   ]
  },
  {
   "cell_type": "code",
   "execution_count": 9,
   "id": "aed46089-7092-4856-a6c2-08cf1b821cbd",
   "metadata": {},
   "outputs": [
    {
     "data": {
      "text/plain": [
       "array([], shape=(0, 3), dtype=int64)"
      ]
     },
     "execution_count": 9,
     "metadata": {},
     "output_type": "execute_result"
    }
   ],
   "source": [
    "a[1:1]"
   ]
  },
  {
   "cell_type": "code",
   "execution_count": 10,
   "id": "cc82b100-c6be-4e69-81be-c36881b0b27e",
   "metadata": {},
   "outputs": [
    {
     "data": {
      "text/plain": [
       "3"
      ]
     },
     "execution_count": 10,
     "metadata": {},
     "output_type": "execute_result"
    }
   ],
   "source": [
    "a[1,1]"
   ]
  },
  {
   "cell_type": "code",
   "execution_count": 11,
   "id": "83ec8dac-53bd-4cd5-9f91-63a140e07c7b",
   "metadata": {},
   "outputs": [
    {
     "ename": "NameError",
     "evalue": "name 'rg' is not defined",
     "output_type": "error",
     "traceback": [
      "\u001b[0;31m---------------------------------------------------------------------------\u001b[0m",
      "\u001b[0;31mNameError\u001b[0m                                 Traceback (most recent call last)",
      "Cell \u001b[0;32mIn[11], line 1\u001b[0m\n\u001b[0;32m----> 1\u001b[0m a \u001b[38;5;241m=\u001b[39m np\u001b[38;5;241m.\u001b[39mfloor(\u001b[38;5;241m10\u001b[39m\u001b[38;5;241m*\u001b[39m\u001b[43mrg\u001b[49m\u001b[38;5;241m.\u001b[39mrandom((\u001b[38;5;241m3\u001b[39m,\u001b[38;5;241m4\u001b[39m)))\n",
      "\u001b[0;31mNameError\u001b[0m: name 'rg' is not defined"
     ]
    }
   ],
   "source": [
    "a = np.floor(10*rg.random((3,4)))"
   ]
  },
  {
   "cell_type": "code",
   "execution_count": 16,
   "id": "eafbfe8a-4870-4197-b213-86c00943e1f9",
   "metadata": {},
   "outputs": [],
   "source": [
    "import numpy as np\n",
    "\n",
    "rg = np.random.default_rng()\n",
    "a = np.floor(10 * rg.random((3, 4)))"
   ]
  },
  {
   "cell_type": "code",
   "execution_count": 17,
   "id": "f0d53e1e-3162-434b-a5cf-a1c25117e939",
   "metadata": {},
   "outputs": [
    {
     "data": {
      "text/plain": [
       "array([[2., 5., 5., 8.],\n",
       "       [4., 7., 2., 6.],\n",
       "       [8., 5., 9., 7.]])"
      ]
     },
     "execution_count": 17,
     "metadata": {},
     "output_type": "execute_result"
    }
   ],
   "source": [
    "a"
   ]
  },
  {
   "cell_type": "code",
   "execution_count": null,
   "id": "d1e24d1f-27c6-4a24-b54b-74050da0ac4b",
   "metadata": {},
   "outputs": [],
   "source": []
  }
 ],
 "metadata": {
  "kernelspec": {
   "display_name": "Python 3 (ipykernel)",
   "language": "python",
   "name": "python3"
  },
  "language_info": {
   "codemirror_mode": {
    "name": "ipython",
    "version": 3
   },
   "file_extension": ".py",
   "mimetype": "text/x-python",
   "name": "python",
   "nbconvert_exporter": "python",
   "pygments_lexer": "ipython3",
   "version": "3.10.12"
  }
 },
 "nbformat": 4,
 "nbformat_minor": 5
}
