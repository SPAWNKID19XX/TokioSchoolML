{
 "cells": [
  {
   "cell_type": "code",
   "execution_count": 5,
   "id": "1475942b-e2cd-4203-80ae-e70343b9fcb3",
   "metadata": {},
   "outputs": [],
   "source": [
    "#impor a library numpy and call by np\n",
    "import numpy as np\n"
   ]
  },
  {
   "cell_type": "code",
   "execution_count": 6,
   "id": "e7f961b6-409d-494b-abd0-3684e63c4ea4",
   "metadata": {},
   "outputs": [],
   "source": [
    "#create a multidemencional array\n",
    "a = np.array([[1,2,3],[2,3,4]])"
   ]
  },
  {
   "cell_type": "code",
   "execution_count": 4,
   "id": "7f28516d-fdce-4780-9221-ce76f76575d1",
   "metadata": {},
   "outputs": [
    {
     "name": "stdout",
     "output_type": "stream",
     "text": [
      "[[1 2 3]\n",
      " [2 3 4]]\n"
     ]
    }
   ],
   "source": [
    "print(a)"
   ]
  },
  {
   "cell_type": "code",
   "execution_count": 6,
   "id": "398a06e4-87cc-4439-960d-145f4d653535",
   "metadata": {},
   "outputs": [
    {
     "data": {
      "text/plain": [
       "(2, 3)"
      ]
     },
     "execution_count": 6,
     "metadata": {},
     "output_type": "execute_result"
    }
   ],
   "source": [
    "#check a matrix's dimencion(2 - rows 3 - column)\n",
    "a.shape"
   ]
  },
  {
   "cell_type": "code",
   "execution_count": 10,
   "id": "fe2648a7-ba05-46a4-812a-b5d808b34479",
   "metadata": {},
   "outputs": [],
   "source": [
    "#create a matrix with demincion 3 rows, 2 collumn based in array a\n",
    "b = a.reshape((3,2))"
   ]
  },
  {
   "cell_type": "code",
   "execution_count": 8,
   "id": "f497219a-0b1f-4da8-ba2c-7a739c50d8fc",
   "metadata": {},
   "outputs": [
    {
     "data": {
      "text/plain": [
       "array([[1, 2, 3],\n",
       "       [2, 3, 4]])"
      ]
     },
     "execution_count": 8,
     "metadata": {},
     "output_type": "execute_result"
    }
   ],
   "source": [
    "a"
   ]
  },
  {
   "cell_type": "code",
   "execution_count": 11,
   "id": "bbbc0fab-f5c6-475e-a381-441ebc7701dc",
   "metadata": {},
   "outputs": [
    {
     "data": {
      "text/plain": [
       "array([[1, 2],\n",
       "       [3, 2],\n",
       "       [3, 4]])"
      ]
     },
     "execution_count": 11,
     "metadata": {},
     "output_type": "execute_result"
    }
   ],
   "source": [
    "b"
   ]
  },
  {
   "cell_type": "code",
   "execution_count": 14,
   "id": "aed46089-7092-4856-a6c2-08cf1b821cbd",
   "metadata": {},
   "outputs": [],
   "source": [
    "#slise a multidemencional array B from row->1(included) until row->2 excluded \n",
    "res = b[1:2]"
   ]
  },
  {
   "cell_type": "code",
   "execution_count": 15,
   "id": "fcec62d7-55d2-4814-8d1a-2c4cb87bcccc",
   "metadata": {},
   "outputs": [
    {
     "name": "stdout",
     "output_type": "stream",
     "text": [
      "[[3 2]]\n"
     ]
    }
   ],
   "source": [
    "print(res)"
   ]
  },
  {
   "cell_type": "code",
   "execution_count": 10,
   "id": "cc82b100-c6be-4e69-81be-c36881b0b27e",
   "metadata": {},
   "outputs": [
    {
     "data": {
      "text/plain": [
       "3"
      ]
     },
     "execution_count": 10,
     "metadata": {},
     "output_type": "execute_result"
    }
   ],
   "source": [
    "#check a valuw in array a in row=>1 column=>1\n",
    "a[1,1]"
   ]
  },
  {
   "cell_type": "code",
   "execution_count": 16,
   "id": "eafbfe8a-4870-4197-b213-86c00943e1f9",
   "metadata": {},
   "outputs": [],
   "source": [
    "rg = np.random.default_rng()\n",
    "a = np.floor(10 * rg.random((3, 4)))"
   ]
  },
  {
   "cell_type": "code",
   "execution_count": 17,
   "id": "f0d53e1e-3162-434b-a5cf-a1c25117e939",
   "metadata": {},
   "outputs": [
    {
     "data": {
      "text/plain": [
       "array([[2., 5., 5., 8.],\n",
       "       [4., 7., 2., 6.],\n",
       "       [8., 5., 9., 7.]])"
      ]
     },
     "execution_count": 17,
     "metadata": {},
     "output_type": "execute_result"
    }
   ],
   "source": [
    "a"
   ]
  },
  {
   "cell_type": "code",
   "execution_count": null,
   "id": "d1e24d1f-27c6-4a24-b54b-74050da0ac4b",
   "metadata": {},
   "outputs": [],
   "source": []
  }
 ],
 "metadata": {
  "kernelspec": {
   "display_name": "Python 3 (ipykernel)",
   "language": "python",
   "name": "python3"
  },
  "language_info": {
   "codemirror_mode": {
    "name": "ipython",
    "version": 3
   },
   "file_extension": ".py",
   "mimetype": "text/x-python",
   "name": "python",
   "nbconvert_exporter": "python",
   "pygments_lexer": "ipython3",
   "version": "3.10.12"
  }
 },
 "nbformat": 4,
 "nbformat_minor": 5
}
